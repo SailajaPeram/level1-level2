{
 "cells": [
  {
   "cell_type": "markdown",
   "metadata": {},
   "source": [
    "# pandas\n",
    "- pandas is the most popular library that is used for data analysis.\n",
    "- It provides highly optimised performaance with backend code is purely written in c or python..\n"
   ]
  },
  {
   "cell_type": "code",
   "execution_count": 8,
   "metadata": {},
   "outputs": [
    {
     "name": "stdout",
     "output_type": "stream",
     "text": [
      "0    1\n",
      "1    2\n",
      "2    3\n",
      "3    4\n",
      "dtype: int64\n",
      "a    1\n",
      "b    2\n",
      "c    3\n",
      "d    4\n",
      "dtype: int64\n"
     ]
    }
   ],
   "source": [
    "import pandas as pd\n",
    "data=[1,2,3,4]\n",
    "s=pd.Series(data)\n",
    "print(s)\n",
    "Index=['a','b','c','d']\n",
    "s1=pd.Series(data,Index)\n",
    "print(s1)"
   ]
  },
  {
   "cell_type": "code",
   "execution_count": 5,
   "metadata": {},
   "outputs": [
    {
     "name": "stdout",
     "output_type": "stream",
     "text": [
      "a    1\n",
      "b    2\n",
      "dtype: int64\n"
     ]
    }
   ],
   "source": [
    "dictionary={'a':1,'b':2}\n",
    "s=pd.Series(dictionary)\n",
    "print(s)"
   ]
  },
  {
   "cell_type": "code",
   "execution_count": 10,
   "metadata": {},
   "outputs": [
    {
     "name": "stdout",
     "output_type": "stream",
     "text": [
      "0    [1, 2, 3]\n",
      "1    [4, 5, 6]\n",
      "dtype: object\n"
     ]
    }
   ],
   "source": [
    "data=[[1,2,3],[4,5,6]]\n",
    "s=pd.Series(data)\n",
    "print(s)"
   ]
  },
  {
   "cell_type": "code",
   "execution_count": null,
   "metadata": {},
   "outputs": [],
   "source": [
    "#program to create Dataframe\n",
    "import pandas as pd\n",
    "a=pd.DataFrames(Data)#create DataFrame with data\n",
    "\n",
    "\n",
    "Here data can be:\n",
    "    one or more dictionaries\n",
    "    one or more series\n",
    "    2D-numpy Ndarray"
   ]
  },
  {
   "cell_type": "code",
   "execution_count": 12,
   "metadata": {},
   "outputs": [
    {
     "name": "stdout",
     "output_type": "stream",
     "text": [
      "   first  second\n",
      "a      1       4\n",
      "b      2       5\n",
      "c      3       6\n"
     ]
    }
   ],
   "source": [
    "#when data is Dictionaries\n",
    "#program to create Data Frame with two dictionaries\n",
    "dict1={'a':1,'b':2,'c':3}  \n",
    "dict2={'a':4,'b':5,'c':6}\n",
    "data={\"first\":dict1,\"second\":dict2}\n",
    "a=pd.DataFrame(data)\n",
    "print(a)"
   ]
  },
  {
   "cell_type": "code",
   "execution_count": 30,
   "metadata": {},
   "outputs": [
    {
     "name": "stdout",
     "output_type": "stream",
     "text": [
      "   first  second third\n",
      "0      1     1.1     a\n",
      "1      2     1.2     b\n",
      "2      3     1.3     c\n",
      "3      4     1.4     d\n",
      "4      5     NaN   NaN\n",
      "5      6     NaN   NaN\n"
     ]
    },
    {
     "data": {
      "text/html": [
       "<div>\n",
       "<style scoped>\n",
       "    .dataframe tbody tr th:only-of-type {\n",
       "        vertical-align: middle;\n",
       "    }\n",
       "\n",
       "    .dataframe tbody tr th {\n",
       "        vertical-align: top;\n",
       "    }\n",
       "\n",
       "    .dataframe thead th {\n",
       "        text-align: right;\n",
       "    }\n",
       "</style>\n",
       "<table border=\"1\" class=\"dataframe\">\n",
       "  <thead>\n",
       "    <tr style=\"text-align: right;\">\n",
       "      <th></th>\n",
       "      <th>first</th>\n",
       "      <th>second</th>\n",
       "      <th>third</th>\n",
       "    </tr>\n",
       "  </thead>\n",
       "  <tbody>\n",
       "    <tr>\n",
       "      <th>0</th>\n",
       "      <td>1</td>\n",
       "      <td>1.1</td>\n",
       "      <td>a</td>\n",
       "    </tr>\n",
       "    <tr>\n",
       "      <th>1</th>\n",
       "      <td>2</td>\n",
       "      <td>1.2</td>\n",
       "      <td>b</td>\n",
       "    </tr>\n",
       "    <tr>\n",
       "      <th>2</th>\n",
       "      <td>3</td>\n",
       "      <td>1.3</td>\n",
       "      <td>c</td>\n",
       "    </tr>\n",
       "  </tbody>\n",
       "</table>\n",
       "</div>"
      ],
      "text/plain": [
       "   first  second third\n",
       "0      1     1.1     a\n",
       "1      2     1.2     b\n",
       "2      3     1.3     c"
      ]
     },
     "execution_count": 30,
     "metadata": {},
     "output_type": "execute_result"
    }
   ],
   "source": [
    "#when data in series\n",
    "#program to create Data Frame with 3 series\n",
    "s1=pd.Series([1,2,3,4,5,6])\n",
    "s2=pd.Series([1.1,1.2,1.3,1.4])\n",
    "s3=pd.Series(['a','b','c','d'])\n",
    "a={\"first\":s1,\"second\":s2,\"third\":s3}\n",
    "dfseries=pd.DataFrame(a)\n",
    "print(dfseries)\n",
    "dfseries.iloc[0:3,0:3]\n",
    "\n",
    "\n"
   ]
  },
  {
   "cell_type": "code",
   "execution_count": 15,
   "metadata": {},
   "outputs": [
    {
     "data": {
      "text/html": [
       "<div>\n",
       "<style scoped>\n",
       "    .dataframe tbody tr th:only-of-type {\n",
       "        vertical-align: middle;\n",
       "    }\n",
       "\n",
       "    .dataframe tbody tr th {\n",
       "        vertical-align: top;\n",
       "    }\n",
       "\n",
       "    .dataframe thead th {\n",
       "        text-align: right;\n",
       "    }\n",
       "</style>\n",
       "<table border=\"1\" class=\"dataframe\">\n",
       "  <thead>\n",
       "    <tr style=\"text-align: right;\">\n",
       "      <th></th>\n",
       "      <th>first</th>\n",
       "      <th>second</th>\n",
       "    </tr>\n",
       "  </thead>\n",
       "  <tbody>\n",
       "    <tr>\n",
       "      <th>0</th>\n",
       "      <td>[1, 2, 3]</td>\n",
       "      <td>[23, 4, 4]</td>\n",
       "    </tr>\n",
       "    <tr>\n",
       "      <th>1</th>\n",
       "      <td>[4, 5, 7]</td>\n",
       "      <td>[3, 4, 5]</td>\n",
       "    </tr>\n",
       "  </tbody>\n",
       "</table>\n",
       "</div>"
      ],
      "text/plain": [
       "       first      second\n",
       "0  [1, 2, 3]  [23, 4, 4]\n",
       "1  [4, 5, 7]   [3, 4, 5]"
      ]
     },
     "execution_count": 15,
     "metadata": {},
     "output_type": "execute_result"
    }
   ],
   "source": [
    "d1=[[1,2,3],[4,5,7]]\n",
    "d2=[[23,4,4],[3,4,5]]\n",
    "data={'first':d1,'second':d2}\n",
    "df2d=pd.DataFrame(data)\n",
    "df2d\n"
   ]
  },
  {
   "cell_type": "code",
   "execution_count": 23,
   "metadata": {},
   "outputs": [
    {
     "name": "stdout",
     "output_type": "stream",
     "text": [
      "     name  rollno\n",
      "0   samyu     591\n",
      "1   priya     566\n",
      "2  chitti     568\n",
      "3   bingo     577\n"
     ]
    }
   ],
   "source": [
    "d1=['samyu','priya','chitti','bingo']\n",
    "d2=[591,566,568,577]\n",
    "data={'name':d1,'rollno':d2}\n",
    "a=pd.DataFrame(data)\n",
    "print(a)"
   ]
  },
  {
   "cell_type": "code",
   "execution_count": 31,
   "metadata": {},
   "outputs": [
    {
     "name": "stdout",
     "output_type": "stream",
     "text": [
      "     name  rollno\n",
      "0   samyu     591\n",
      "1   priya     566\n",
      "2  chitti     568\n",
      "3   bingo     577\n"
     ]
    }
   ],
   "source": [
    "d1=['samyu','priya','chitti','bingo']\n",
    "d2=[591,566,568,577]\n",
    "data={'name':d1,'rollno':d2}\n",
    "a=pd.DataFrame(data)\n",
    "print(a)"
   ]
  },
  {
   "cell_type": "code",
   "execution_count": 34,
   "metadata": {},
   "outputs": [
    {
     "name": "stdout",
     "output_type": "stream",
     "text": [
      "      HPI  INT_RATE  IND_GDP\n",
      "2001   80         2       50\n",
      "2002   90         1       60\n",
      "2003   70         2       70\n",
      "2004   60         3       80\n"
     ]
    }
   ],
   "source": [
    "df1=pd.DataFrame({\"HPI\":[80,90,70,60],\"INT_RATE\":[2,1,2,3],\"IND_GDP\":[50,60,70,80]},index=[2001,2002,2003,2004])\n",
    "print(df1)"
   ]
  },
  {
   "cell_type": "code",
   "execution_count": 35,
   "metadata": {},
   "outputs": [
    {
     "name": "stdout",
     "output_type": "stream",
     "text": [
      "      HPI  INT_RATE  IND_GDP  SBI  INFOSYS  TCS\n",
      "2001   80         2       50    1        1   90\n",
      "2002   90         1       60    2        3   40\n",
      "2003   70         2       70    3        4   50\n",
      "2004   60         3       80    4        5   30\n"
     ]
    }
   ],
   "source": [
    "df1=pd.DataFrame({\"HPI\":[80,90,70,60],\"INT_RATE\":[2,1,2,3],\"IND_GDP\":[50,60,70,80]},index=[2001,2002,2003,2004])\n",
    "df2=pd.DataFrame({\"SBI\":[1,2,3,4],\"INFOSYS\":[1,3,4,5],\"TCS\":[90,40,50,30]},index=[2001,2002,2003,2004])\n",
    "joined=df1.join(df2)\n",
    "print(joined)"
   ]
  },
  {
   "cell_type": "code",
   "execution_count": 42,
   "metadata": {},
   "outputs": [
    {
     "name": "stdout",
     "output_type": "stream",
     "text": [
      "   HPI  INT_RATE  IND_GDP\n",
      "0   80         2       50\n",
      "1   90         1       60\n",
      "2   70         2       70\n",
      "3   60         3       80\n"
     ]
    }
   ],
   "source": [
    "df1=pd.DataFrame({\"HPI\":[80,90,70,60],\"INT_RATE\":[2,1,2,3],\"IND_GDP\":[50,60,70,80]},index=[2001,2002,2003,2004])\n",
    "df2=pd.DataFrame({\"HPI\":[80,90,70,60],\"INT_RATE\":[2,1,2,3],\"IND_GDP\":[50,60,70,80]},index=[2006,2007,2008,2009])\n",
    "merged=pd.merge(df1,df2)\n",
    "print(merged)"
   ]
  },
  {
   "cell_type": "code",
   "execution_count": 45,
   "metadata": {},
   "outputs": [
    {
     "name": "stdout",
     "output_type": "stream",
     "text": [
      "     visitors  Bounce_Rate\n",
      "Day                       \n",
      "1         200           20\n",
      "2         300           30\n",
      "3         400           60\n",
      "4         100           70\n"
     ]
    }
   ],
   "source": [
    "import pandas as pd\n",
    "df=pd.DataFrame({\"Day\":[1,2,3,4],\"visitors\":[200,300,400,100],\"Bounce_Rate\":[20,30,60,70]})\n",
    "df.set_index(\"Day\",inplace=True)\n",
    "print(df)\n",
    "\n"
   ]
  },
  {
   "cell_type": "code",
   "execution_count": null,
   "metadata": {},
   "outputs": [],
   "source": []
  }
 ],
 "metadata": {
  "kernelspec": {
   "display_name": "Python 3",
   "language": "python",
   "name": "python3"
  },
  "language_info": {
   "codemirror_mode": {
    "name": "ipython",
    "version": 3
   },
   "file_extension": ".py",
   "mimetype": "text/x-python",
   "name": "python",
   "nbconvert_exporter": "python",
   "pygments_lexer": "ipython3",
   "version": "3.7.1"
  }
 },
 "nbformat": 4,
 "nbformat_minor": 2
}
